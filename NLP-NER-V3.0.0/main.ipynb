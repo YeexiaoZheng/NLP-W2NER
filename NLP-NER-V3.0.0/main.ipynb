{
 "cells": [
  {
   "cell_type": "code",
   "execution_count": null,
   "metadata": {},
   "outputs": [],
   "source": [
    "# from google.colab import drive\n",
    "# drive.mount('/content/drive')\n",
    "# %cd /content/drive/MyDrive/NLP-NER-V3.0.0"
   ]
  },
  {
   "cell_type": "code",
   "execution_count": null,
   "metadata": {},
   "outputs": [],
   "source": [
    "# !pip install transformers"
   ]
  },
  {
   "cell_type": "code",
   "execution_count": null,
   "metadata": {},
   "outputs": [],
   "source": [
    "import sys\n",
    "sys.path.append('./utils')"
   ]
  },
  {
   "cell_type": "code",
   "execution_count": null,
   "metadata": {},
   "outputs": [],
   "source": [
    "import torch\n",
    "\n",
    "from Model import Model\n",
    "import utils.common as utils\n",
    "from utils.DataProcess import Processor\n",
    "from Config import config\n",
    "from Trainer import Trainer"
   ]
  },
  {
   "cell_type": "code",
   "execution_count": null,
   "metadata": {},
   "outputs": [],
   "source": [
    "device = torch.device(\"cuda\" if torch.cuda.is_available() else \"cpu\")\n",
    "config.device = device\n",
    "print(config.device)"
   ]
  },
  {
   "cell_type": "code",
   "execution_count": null,
   "metadata": {},
   "outputs": [],
   "source": [
    "logger = utils.get_logger(config.dataset)\n",
    "logger.info(config)\n",
    "config.logger = logger"
   ]
  },
  {
   "cell_type": "code",
   "execution_count": null,
   "metadata": {},
   "outputs": [],
   "source": [
    "logger.info(\"Loading Data\")\n",
    "processor = Processor(config)\n",
    "train_data = utils.read_from_file(config.train_data_path)\n",
    "dev_data = utils.read_from_file(config.dev_data_path)\n",
    "train_loader, dev_loader = processor(train_data, config.train_params), processor(dev_data, config.dev_params)\n",
    "\n",
    "updates_total = len(train_data) // config.batch_size * config.epochs"
   ]
  },
  {
   "cell_type": "code",
   "execution_count": null,
   "metadata": {},
   "outputs": [],
   "source": [
    "logger.info(\"Building Model\")\n",
    "model = Model(config)\n",
    "model = model.to(config.device)"
   ]
  },
  {
   "cell_type": "code",
   "execution_count": null,
   "metadata": {},
   "outputs": [],
   "source": [
    "trainer = Trainer(model, processor, config, updates_total)\n",
    "\n",
    "best_f1 = 0\n",
    "for i in range(1, config.epochs + 1):\n",
    "    logger.info(\"Epoch: {}\".format(i))\n",
    "    trainer.train(i, train_loader)\n",
    "    f1 = trainer.eval(i, dev_loader)\n",
    "    if f1 > best_f1:\n",
    "        best_f1 = f1\n",
    "        trainer.save(config.save_path)     \n",
    "logger.info(\"Best DEV F1: {:3.4f}\".format(best_f1))"
   ]
  },
  {
   "cell_type": "code",
   "execution_count": null,
   "metadata": {},
   "outputs": [],
   "source": [
    "trainer.load(config.save_path)\n",
    "test_data = utils.read_from_file(config.test_data_path)\n",
    "test_loader = processor(test_data)\n",
    "trainer.predict(\"Final\", test_loader, test_data)"
   ]
  }
 ],
 "metadata": {
  "interpreter": {
   "hash": "625a9e90e125179d2e4e722dbf246d9ce1d0a9c1468b83ede14555db0f731cfc"
  },
  "kernelspec": {
   "display_name": "Python 3.8.10 ('deepl')",
   "language": "python",
   "name": "python3"
  },
  "language_info": {
   "codemirror_mode": {
    "name": "ipython",
    "version": 3
   },
   "file_extension": ".py",
   "mimetype": "text/x-python",
   "name": "python",
   "nbconvert_exporter": "python",
   "pygments_lexer": "ipython3",
   "version": "3.8.10"
  },
  "orig_nbformat": 4
 },
 "nbformat": 4,
 "nbformat_minor": 2
}
